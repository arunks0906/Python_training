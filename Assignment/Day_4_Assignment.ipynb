{
  "nbformat": 4,
  "nbformat_minor": 0,
  "metadata": {
    "colab": {
      "provenance": []
    },
    "kernelspec": {
      "name": "python3",
      "display_name": "Python 3"
    },
    "language_info": {
      "name": "python"
    }
  },
  "cells": [
    {
      "cell_type": "markdown",
      "source": [
        "Filtering, GroupBy, Aggregations\n",
        "Q1. Using a DataFrame of sales data: [Region, Product ,Sales]\n",
        " Filter all rows where Sales > 1000.\n",
        " Group the data by Region and calculate the total sales.\n"
      ],
      "metadata": {
        "id": "l5dVzOkdZYG1"
      }
    },
    {
      "cell_type": "code",
      "source": [
        "import pandas as pd\n",
        "sales={\"Region\":[\"East\",\"West\",\"West\",\"East\"],\n",
        "          \"Product\":[\"Laptop\",\"Laptop\",\"Mobile\",\"Mobile\"],\n",
        "          \"Sales\":[1000,2000,700,4000]\n",
        "           }\n",
        "\n",
        "df=pd.DataFrame(sales)\n",
        "print(df[df[\"Sales\"]>1000])\n",
        "print(df.groupby(\"Region\")[\"Sales\"].sum())"
      ],
      "metadata": {
        "colab": {
          "base_uri": "https://localhost:8080/"
        },
        "collapsed": true,
        "id": "IqFOAuw4ZiyZ",
        "outputId": "0df3e472-a014-470e-e9f0-ab2ac10892d6"
      },
      "execution_count": 2,
      "outputs": [
        {
          "output_type": "stream",
          "name": "stdout",
          "text": [
            "  Region Product  Sales\n",
            "1   West  Laptop   2000\n",
            "3   East  Mobile   4000\n",
            "Region\n",
            "East    5000\n",
            "West    2700\n",
            "Name: Sales, dtype: int64\n"
          ]
        }
      ]
    },
    {
      "cell_type": "markdown",
      "source": [
        "Create a DataFrame containing students&#39; marks across subjects.\n",
        " Use groupby() to find the average marks per subject.\n",
        " Filter students who scored above 80 in all subjects."
      ],
      "metadata": {
        "id": "HQLyUDZ3kxJT"
      }
    },
    {
      "cell_type": "code",
      "source": [
        "import pandas as pd\n",
        "\n",
        "student={\"Student_name\":[\"Arun\",'Karun',\"Varun\"],\n",
        "         \"Maths\": [70,87,67],\n",
        "         'Science':[89,88,97],\n",
        "         \"CS\":[82,86,57]}\n",
        "df=pd.DataFrame(student)\n",
        "print(df.groupby(\"Student_name\")[[\"Maths\",\"Science\",\"CS\"]].mean())\n",
        "print(df[(df[\"Maths\"]>80) & (df[\"Science\"]>80) & (df[\"CS\"]>80)])"
      ],
      "metadata": {
        "colab": {
          "base_uri": "https://localhost:8080/"
        },
        "id": "iXPLhIP_kwtx",
        "outputId": "6b145c7d-1bd9-4a29-8920-d86f12f7a485"
      },
      "execution_count": 3,
      "outputs": [
        {
          "output_type": "stream",
          "name": "stdout",
          "text": [
            "              Maths  Science    CS\n",
            "Student_name                      \n",
            "Arun           70.0     89.0  82.0\n",
            "Karun          87.0     88.0  86.0\n",
            "Varun          67.0     97.0  57.0\n",
            "  Student_name  Maths  Science  CS\n",
            "1        Karun     87       88  86\n"
          ]
        }
      ]
    }
  ]
}